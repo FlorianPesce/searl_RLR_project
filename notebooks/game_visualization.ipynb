{
 "cells": [
  {
   "cell_type": "code",
   "execution_count": 25,
   "id": "eea9eec1",
   "metadata": {},
   "outputs": [],
   "source": [
    "\"\"\"\n",
    "@author: Olivier Sigaud\n",
    "A merge between two sources:\n",
    "* Adaptation of the MountainCar Environment from the \"FAReinforcement\" library\n",
    "of Jose Antonio Martin H. (version 1.0), adapted by  'Tom Schaul, tom@idsia.ch'\n",
    "and then modified by Arnaud de Broissia\n",
    "* the gym MountainCar environment\n",
    "itself from\n",
    "http://incompleteideas.net/sutton/MountainCar/MountainCar1.cp\n",
    "permalink: https://perma.cc/6Z2N-PFWC\n",
    "\"\"\"\n",
    "\n",
    "import math\n",
    "from typing import Optional\n",
    "\n",
    "import numpy as np\n",
    "import pygame\n",
    "from pygame import gfxdraw\n",
    "\n",
    "import gym\n",
    "from gym import spaces\n",
    "from gym.utils import seeding"
   ]
  },
  {
   "cell_type": "code",
   "execution_count": 6,
   "id": "84f5e17e",
   "metadata": {},
   "outputs": [],
   "source": [
    "df = np.load(\"../experiments/searl/neuroevolution/mountaincar_searl_td3/checkpoint/population.npy\", allow_pickle=True)"
   ]
  },
  {
   "cell_type": "code",
   "execution_count": 7,
   "id": "81377d4a",
   "metadata": {},
   "outputs": [
    {
     "data": {
      "text/plain": [
       "array([<searl.neuroevolution.components.individual_td3.Individual object at 0x7fcce4ee8940>,\n",
       "       <searl.neuroevolution.components.individual_td3.Individual object at 0x7fcc426b3ef0>,\n",
       "       <searl.neuroevolution.components.individual_td3.Individual object at 0x7fcc42659710>,\n",
       "       <searl.neuroevolution.components.individual_td3.Individual object at 0x7fcc42667f28>,\n",
       "       <searl.neuroevolution.components.individual_td3.Individual object at 0x7fcc4268b6a0>,\n",
       "       <searl.neuroevolution.components.individual_td3.Individual object at 0x7fcc4261ceb8>,\n",
       "       <searl.neuroevolution.components.individual_td3.Individual object at 0x7fcc4263f6d8>,\n",
       "       <searl.neuroevolution.components.individual_td3.Individual object at 0x7fcc4264deb8>,\n",
       "       <searl.neuroevolution.components.individual_td3.Individual object at 0x7fcc425f26d8>,\n",
       "       <searl.neuroevolution.components.individual_td3.Individual object at 0x7fcc425ffe48>],\n",
       "      dtype=object)"
      ]
     },
     "execution_count": 7,
     "metadata": {},
     "output_type": "execute_result"
    }
   ],
   "source": [
    "df"
   ]
  },
  {
   "cell_type": "code",
   "execution_count": 21,
   "id": "f44b77fe",
   "metadata": {},
   "outputs": [
    {
     "data": {
      "text/plain": [
       "[-32.353087625861555,\n",
       " -0.9190128817244352,\n",
       " -0.9902847178639511,\n",
       " -0.9907776869093379,\n",
       " -1.0520860026409782,\n",
       " -0.9796204861058136,\n",
       " -0.9848902745178378,\n",
       " -1.0087501359827609,\n",
       " -1.0276884285099495,\n",
       " -1.1057179097397505]"
      ]
     },
     "execution_count": 21,
     "metadata": {},
     "output_type": "execute_result"
    }
   ],
   "source": [
    "df[6].fitness"
   ]
  },
  {
   "cell_type": "code",
   "execution_count": 22,
   "id": "6494fd74",
   "metadata": {},
   "outputs": [
    {
     "data": {
      "text/plain": [
       "[-32.353087625861555,\n",
       " -0.9190128817244352,\n",
       " -0.9902847178639511,\n",
       " -0.9907776869093379,\n",
       " -1.0520860026409782,\n",
       " -0.9796204861058136,\n",
       " -0.9848902745178378,\n",
       " -1.0111148718328418,\n",
       " -0.9811387775559235,\n",
       " -0.9570420593405495]"
      ]
     },
     "execution_count": 22,
     "metadata": {},
     "output_type": "execute_result"
    }
   ],
   "source": [
    "df[1].fitness"
   ]
  },
  {
   "cell_type": "code",
   "execution_count": 14,
   "id": "f6eee544",
   "metadata": {},
   "outputs": [
    {
     "name": "stdout",
     "output_type": "stream",
     "text": [
      "1\n",
      "1\n"
     ]
    }
   ],
   "source": [
    "best_individual_idx, best_epoch_idx = 0, 0\n",
    "best_fitness = df[0].fitness[0]\n",
    "for i in range(len(df)):\n",
    "    fitness_values = np.array(df[i].fitness)\n",
    "    j = np.argmax(fitness_values)\n",
    "    if fitness_values[j] > best_fitness:\n",
    "        best_individual_idx, best_epoch_idx = i, j\n",
    "        best_fitness = fitness_values[j]\n",
    "print(best_individual_idx)\n",
    "print(best_epoch_idx)"
   ]
  },
  {
   "cell_type": "code",
   "execution_count": 26,
   "id": "ad50360d",
   "metadata": {},
   "outputs": [],
   "source": [
    "class Continuous_MountainCarEnv(gym.Env):\n",
    "    \"\"\"\n",
    "    ### Description\n",
    "    The Mountain Car MDP is a deterministic MDP that consists of a car placed stochastically\n",
    "    at the bottom of a sinusoidal valley, with the only possible actions being the accelerations\n",
    "    that can be applied to the car in either direction. The goal of the MDP is to strategically\n",
    "    accelerate the car to reach the goal state on top of the right hill. There are two versions\n",
    "    of the mountain car domain in gym: one with discrete actions and one with continuous.\n",
    "    This version is the one with continuous actions.\n",
    "    This MDP first appeared in [Andrew Moore's PhD Thesis (1990)](https://www.cl.cam.ac.uk/techreports/UCAM-CL-TR-209.pdf)\n",
    "    ```\n",
    "    @TECHREPORT{Moore90efficientmemory-based,\n",
    "        author = {Andrew William Moore},\n",
    "        title = {Efficient Memory-based Learning for Robot Control},\n",
    "        institution = {University of Cambridge},\n",
    "        year = {1990}\n",
    "    }\n",
    "    ```\n",
    "    ### Observation Space\n",
    "    The observation is a `ndarray` with shape `(2,)` where the elements correspond to the following:\n",
    "    | Num | Observation                                                 | Min                | Max    | Unit |\n",
    "    |-----|-------------------------------------------------------------|--------------------|--------|------|\n",
    "    | 0   | position of the car along the x-axis                        | -Inf               | Inf    | position (m) |\n",
    "    | 1   | velocity of the car                                         | -Inf               | Inf  | position (m) |\n",
    "    ### Action Space\n",
    "    The action is a `ndarray` with shape `(1,)`, representing the directional force applied on the car. The action is clipped in the range `[-1,1]` and multiplied by a power of 0.0015.\n",
    "    ### Transition Dynamics:\n",
    "    Given an action, the mountain car follows the following transition dynamics:\n",
    "    *velocity<sub>t+1</sub> = velocity<sub>t+1</sub> + force * self.power - 0.0025 * cos(3 * position<sub>t</sub>)*\n",
    "    *position<sub>t+1</sub> = position<sub>t</sub> + velocity<sub>t+1</sub>*\n",
    "    where force is the action clipped to the range `[-1,1]` and power is a constant 0.0015. The collisions at either end are inelastic with the velocity set to 0 upon collision with the wall. The position is clipped to the range [-1.2, 0.6] and velocity is clipped to the range [-0.07, 0.07].\n",
    "    ### Reward\n",
    "    A negative reward of *-0.1 * action<sup>2</sup>* is received at each timestep to penalise for taking actions of large magnitude. If the mountain car reaches the goal then a positive reward of +100 is added to the negative reward for that timestep.\n",
    "    ### Starting State\n",
    "    The position of the car is assigned a uniform random value in `[-0.6 , -0.4]`. The starting velocity of the car is always assigned to 0.\n",
    "    ### Episode Termination\n",
    "    The episode terminates if either of the following happens:\n",
    "    1. The position of the car is greater than or equal to 0.45 (the goal position on top of the right hill)\n",
    "    2. The length of the episode is 999.\n",
    "    ### Arguments\n",
    "    ```\n",
    "    gym.make('MountainCarContinuous-v0')\n",
    "    ```\n",
    "    ### Version History\n",
    "    * v0: Initial versions release (1.0.0)\n",
    "    \"\"\"\n",
    "\n",
    "    metadata = {\"render_modes\": [\"human\", \"rgb_array\"], \"render_fps\": 30}\n",
    "\n",
    "    def __init__(self, goal_velocity=0):\n",
    "        self.min_action = -1.0\n",
    "        self.max_action = 1.0\n",
    "        self.min_position = -1.2\n",
    "        self.max_position = 0.6\n",
    "        self.max_speed = 0.07\n",
    "        self.goal_position = (\n",
    "            0.45  # was 0.5 in gym, 0.45 in Arnaud de Broissia's version\n",
    "        )\n",
    "        self.goal_velocity = goal_velocity\n",
    "        self.power = 0.0015\n",
    "\n",
    "        self.low_state = np.array(\n",
    "            [self.min_position, -self.max_speed], dtype=np.float32\n",
    "        )\n",
    "        self.high_state = np.array(\n",
    "            [self.max_position, self.max_speed], dtype=np.float32\n",
    "        )\n",
    "\n",
    "        self.screen = None\n",
    "        self.clock = None\n",
    "        self.isopen = True\n",
    "\n",
    "        self.action_space = spaces.Box(\n",
    "            low=self.min_action, high=self.max_action, shape=(1,), dtype=np.float32\n",
    "        )\n",
    "        self.observation_space = spaces.Box(\n",
    "            low=self.low_state, high=self.high_state, dtype=np.float32\n",
    "        )\n",
    "\n",
    "    def step(self, action):\n",
    "\n",
    "        position = self.state[0]\n",
    "        velocity = self.state[1]\n",
    "        force = min(max(action[0], self.min_action), self.max_action)\n",
    "\n",
    "        velocity += force * self.power - 0.0025 * math.cos(3 * position)\n",
    "        if velocity > self.max_speed:\n",
    "            velocity = self.max_speed\n",
    "        if velocity < -self.max_speed:\n",
    "            velocity = -self.max_speed\n",
    "        position += velocity\n",
    "        if position > self.max_position:\n",
    "            position = self.max_position\n",
    "        if position < self.min_position:\n",
    "            position = self.min_position\n",
    "        if position == self.min_position and velocity < 0:\n",
    "            velocity = 0\n",
    "\n",
    "        # Convert a possible numpy bool to a Python bool.\n",
    "        done = bool(position >= self.goal_position and velocity >= self.goal_velocity)\n",
    "\n",
    "        reward = 0\n",
    "        if done:\n",
    "            reward = 100.0\n",
    "        reward -= math.pow(action[0], 2) * 0.1\n",
    "\n",
    "        self.state = np.array([position, velocity], dtype=np.float32)\n",
    "        return self.state, reward, done, {}\n",
    "\n",
    "    def reset(\n",
    "        self,\n",
    "        *,\n",
    "        seed: Optional[int] = None,\n",
    "        return_info: bool = False,\n",
    "        options: Optional[dict] = None\n",
    "    ):\n",
    "        super().reset(seed=seed)\n",
    "        self.state = np.array([self.np_random.uniform(low=-0.6, high=-0.4), 0])\n",
    "        if not return_info:\n",
    "            return np.array(self.state, dtype=np.float32)\n",
    "        else:\n",
    "            return np.array(self.state, dtype=np.float32), {}\n",
    "\n",
    "    def _height(self, xs):\n",
    "        return np.sin(3 * xs) * 0.45 + 0.55\n",
    "\n",
    "    def render(self, mode=\"human\"):\n",
    "        screen_width = 600\n",
    "        screen_height = 400\n",
    "\n",
    "        world_width = self.max_position - self.min_position\n",
    "        scale = screen_width / world_width\n",
    "        carwidth = 40\n",
    "        carheight = 20\n",
    "        if self.screen is None:\n",
    "            pygame.init()\n",
    "            pygame.display.init()\n",
    "            self.screen = pygame.display.set_mode((screen_width, screen_height))\n",
    "        if self.clock is None:\n",
    "            self.clock = pygame.time.Clock()\n",
    "\n",
    "        self.surf = pygame.Surface((screen_width, screen_height))\n",
    "        self.surf.fill((255, 255, 255))\n",
    "\n",
    "        pos = self.state[0]\n",
    "\n",
    "        xs = np.linspace(self.min_position, self.max_position, 100)\n",
    "        ys = self._height(xs)\n",
    "        xys = list(zip((xs - self.min_position) * scale, ys * scale))\n",
    "\n",
    "        pygame.draw.aalines(self.surf, points=xys, closed=False, color=(0, 0, 0))\n",
    "\n",
    "        clearance = 10\n",
    "\n",
    "        l, r, t, b = -carwidth / 2, carwidth / 2, carheight, 0\n",
    "        coords = []\n",
    "        for c in [(l, b), (l, t), (r, t), (r, b)]:\n",
    "            c = pygame.math.Vector2(c).rotate_rad(math.cos(3 * pos))\n",
    "            coords.append(\n",
    "                (\n",
    "                    c[0] + (pos - self.min_position) * scale,\n",
    "                    c[1] + clearance + self._height(pos) * scale,\n",
    "                )\n",
    "            )\n",
    "\n",
    "        gfxdraw.aapolygon(self.surf, coords, (0, 0, 0))\n",
    "        gfxdraw.filled_polygon(self.surf, coords, (0, 0, 0))\n",
    "\n",
    "        for c in [(carwidth / 4, 0), (-carwidth / 4, 0)]:\n",
    "            c = pygame.math.Vector2(c).rotate_rad(math.cos(3 * pos))\n",
    "            wheel = (\n",
    "                int(c[0] + (pos - self.min_position) * scale),\n",
    "                int(c[1] + clearance + self._height(pos) * scale),\n",
    "            )\n",
    "\n",
    "            gfxdraw.aacircle(\n",
    "                self.surf, wheel[0], wheel[1], int(carheight / 2.5), (128, 128, 128)\n",
    "            )\n",
    "            gfxdraw.filled_circle(\n",
    "                self.surf, wheel[0], wheel[1], int(carheight / 2.5), (128, 128, 128)\n",
    "            )\n",
    "\n",
    "        flagx = int((self.goal_position - self.min_position) * scale)\n",
    "        flagy1 = int(self._height(self.goal_position) * scale)\n",
    "        flagy2 = flagy1 + 50\n",
    "        gfxdraw.vline(self.surf, flagx, flagy1, flagy2, (0, 0, 0))\n",
    "\n",
    "        gfxdraw.aapolygon(\n",
    "            self.surf,\n",
    "            [(flagx, flagy2), (flagx, flagy2 - 10), (flagx + 25, flagy2 - 5)],\n",
    "            (204, 204, 0),\n",
    "        )\n",
    "        gfxdraw.filled_polygon(\n",
    "            self.surf,\n",
    "            [(flagx, flagy2), (flagx, flagy2 - 10), (flagx + 25, flagy2 - 5)],\n",
    "            (204, 204, 0),\n",
    "        )\n",
    "\n",
    "        self.surf = pygame.transform.flip(self.surf, False, True)\n",
    "        self.screen.blit(self.surf, (0, 0))\n",
    "        if mode == \"human\":\n",
    "            pygame.event.pump()\n",
    "            self.clock.tick(self.metadata[\"render_fps\"])\n",
    "            pygame.display.flip()\n",
    "\n",
    "        if mode == \"rgb_array\":\n",
    "            return np.transpose(\n",
    "                np.array(pygame.surfarray.pixels3d(self.screen)), axes=(1, 0, 2)\n",
    "            )\n",
    "        else:\n",
    "            return self.isopen\n",
    "\n",
    "    def close(self):\n",
    "        if self.screen is not None:\n",
    "            pygame.display.quit()\n",
    "            pygame.quit()\n",
    "            self.isopen = False"
   ]
  },
  {
   "cell_type": "code",
   "execution_count": 28,
   "id": "c6c5ff7e",
   "metadata": {},
   "outputs": [],
   "source": [
    "game = Continuous_MountainCarEnv()"
   ]
  },
  {
   "cell_type": "code",
   "execution_count": 29,
   "id": "86c355f1",
   "metadata": {},
   "outputs": [
    {
     "ename": "error",
     "evalue": "No available video device",
     "output_type": "error",
     "traceback": [
      "\u001b[0;31m---------------------------------------------------------------------------\u001b[0m",
      "\u001b[0;31merror\u001b[0m                                     Traceback (most recent call last)",
      "\u001b[0;32m<ipython-input-29-c3c7c30f8aed>\u001b[0m in \u001b[0;36m<module>\u001b[0;34m\u001b[0m\n\u001b[0;32m----> 1\u001b[0;31m \u001b[0mgame\u001b[0m\u001b[0;34m.\u001b[0m\u001b[0mrender\u001b[0m\u001b[0;34m(\u001b[0m\u001b[0;34m)\u001b[0m\u001b[0;34m\u001b[0m\u001b[0;34m\u001b[0m\u001b[0m\n\u001b[0m",
      "\u001b[0;32m<ipython-input-26-51cb76aa1a50>\u001b[0m in \u001b[0;36mrender\u001b[0;34m(self, mode)\u001b[0m\n\u001b[1;32m    135\u001b[0m         \u001b[0;32mif\u001b[0m \u001b[0mself\u001b[0m\u001b[0;34m.\u001b[0m\u001b[0mscreen\u001b[0m \u001b[0;32mis\u001b[0m \u001b[0;32mNone\u001b[0m\u001b[0;34m:\u001b[0m\u001b[0;34m\u001b[0m\u001b[0;34m\u001b[0m\u001b[0m\n\u001b[1;32m    136\u001b[0m             \u001b[0mpygame\u001b[0m\u001b[0;34m.\u001b[0m\u001b[0minit\u001b[0m\u001b[0;34m(\u001b[0m\u001b[0;34m)\u001b[0m\u001b[0;34m\u001b[0m\u001b[0;34m\u001b[0m\u001b[0m\n\u001b[0;32m--> 137\u001b[0;31m             \u001b[0mpygame\u001b[0m\u001b[0;34m.\u001b[0m\u001b[0mdisplay\u001b[0m\u001b[0;34m.\u001b[0m\u001b[0minit\u001b[0m\u001b[0;34m(\u001b[0m\u001b[0;34m)\u001b[0m\u001b[0;34m\u001b[0m\u001b[0;34m\u001b[0m\u001b[0m\n\u001b[0m\u001b[1;32m    138\u001b[0m             \u001b[0mself\u001b[0m\u001b[0;34m.\u001b[0m\u001b[0mscreen\u001b[0m \u001b[0;34m=\u001b[0m \u001b[0mpygame\u001b[0m\u001b[0;34m.\u001b[0m\u001b[0mdisplay\u001b[0m\u001b[0;34m.\u001b[0m\u001b[0mset_mode\u001b[0m\u001b[0;34m(\u001b[0m\u001b[0;34m(\u001b[0m\u001b[0mscreen_width\u001b[0m\u001b[0;34m,\u001b[0m \u001b[0mscreen_height\u001b[0m\u001b[0;34m)\u001b[0m\u001b[0;34m)\u001b[0m\u001b[0;34m\u001b[0m\u001b[0;34m\u001b[0m\u001b[0m\n\u001b[1;32m    139\u001b[0m         \u001b[0;32mif\u001b[0m \u001b[0mself\u001b[0m\u001b[0;34m.\u001b[0m\u001b[0mclock\u001b[0m \u001b[0;32mis\u001b[0m \u001b[0;32mNone\u001b[0m\u001b[0;34m:\u001b[0m\u001b[0;34m\u001b[0m\u001b[0;34m\u001b[0m\u001b[0m\n",
      "\u001b[0;31merror\u001b[0m: No available video device"
     ]
    }
   ],
   "source": [
    "game.render()"
   ]
  },
  {
   "cell_type": "code",
   "execution_count": 30,
   "id": "e329c82d",
   "metadata": {},
   "outputs": [
    {
     "ename": "error",
     "evalue": "video system not initialized",
     "output_type": "error",
     "traceback": [
      "\u001b[0;31m---------------------------------------------------------------------------\u001b[0m",
      "\u001b[0;31merror\u001b[0m                                     Traceback (most recent call last)",
      "\u001b[0;32m<ipython-input-30-30975b609c9a>\u001b[0m in \u001b[0;36m<module>\u001b[0;34m\u001b[0m\n\u001b[1;32m      1\u001b[0m \u001b[0;32mimport\u001b[0m \u001b[0mpygame\u001b[0m\u001b[0;34m\u001b[0m\u001b[0;34m\u001b[0m\u001b[0m\n\u001b[1;32m      2\u001b[0m \u001b[0mpygame\u001b[0m\u001b[0;34m.\u001b[0m\u001b[0minit\u001b[0m\u001b[0;34m(\u001b[0m\u001b[0;34m)\u001b[0m\u001b[0;34m\u001b[0m\u001b[0;34m\u001b[0m\u001b[0m\n\u001b[0;32m----> 3\u001b[0;31m \u001b[0mpygame\u001b[0m\u001b[0;34m.\u001b[0m\u001b[0mdisplay\u001b[0m\u001b[0;34m.\u001b[0m\u001b[0mlist_modes\u001b[0m\u001b[0;34m(\u001b[0m\u001b[0;34m)\u001b[0m\u001b[0;34m\u001b[0m\u001b[0;34m\u001b[0m\u001b[0m\n\u001b[0m",
      "\u001b[0;31merror\u001b[0m: video system not initialized"
     ]
    }
   ],
   "source": [
    "import pygame\n",
    "pygame.init()\n",
    "pygame.display.list_modes()"
   ]
  },
  {
   "cell_type": "code",
   "execution_count": 31,
   "id": "ce23ec42",
   "metadata": {},
   "outputs": [
    {
     "data": {
      "text/plain": [
       "(3, 2)"
      ]
     },
     "execution_count": 31,
     "metadata": {},
     "output_type": "execute_result"
    }
   ],
   "source": [
    "pygame.init()"
   ]
  },
  {
   "cell_type": "code",
   "execution_count": 32,
   "id": "6ad83d7b",
   "metadata": {},
   "outputs": [
    {
     "ename": "error",
     "evalue": "video system not initialized",
     "output_type": "error",
     "traceback": [
      "\u001b[0;31m---------------------------------------------------------------------------\u001b[0m",
      "\u001b[0;31merror\u001b[0m                                     Traceback (most recent call last)",
      "\u001b[0;32m<ipython-input-32-1fe4de621a2a>\u001b[0m in \u001b[0;36m<module>\u001b[0;34m\u001b[0m\n\u001b[0;32m----> 1\u001b[0;31m \u001b[0mpygame\u001b[0m\u001b[0;34m.\u001b[0m\u001b[0mdisplay\u001b[0m\u001b[0;34m.\u001b[0m\u001b[0mlist_modes\u001b[0m\u001b[0;34m(\u001b[0m\u001b[0;34m)\u001b[0m\u001b[0;34m\u001b[0m\u001b[0;34m\u001b[0m\u001b[0m\n\u001b[0m",
      "\u001b[0;31merror\u001b[0m: video system not initialized"
     ]
    }
   ],
   "source": [
    "pygame.display.list_modes()"
   ]
  },
  {
   "cell_type": "code",
   "execution_count": 33,
   "id": "0e455e8e",
   "metadata": {},
   "outputs": [
    {
     "ename": "error",
     "evalue": "No available video device",
     "output_type": "error",
     "traceback": [
      "\u001b[0;31m---------------------------------------------------------------------------\u001b[0m",
      "\u001b[0;31merror\u001b[0m                                     Traceback (most recent call last)",
      "\u001b[0;32m<ipython-input-33-5365ae3ee186>\u001b[0m in \u001b[0;36m<module>\u001b[0;34m\u001b[0m\n\u001b[1;32m      2\u001b[0m \u001b[0;32mimport\u001b[0m \u001b[0msys\u001b[0m\u001b[0;34m\u001b[0m\u001b[0;34m\u001b[0m\u001b[0m\n\u001b[1;32m      3\u001b[0m \u001b[0mpygame\u001b[0m\u001b[0;34m.\u001b[0m\u001b[0minit\u001b[0m\u001b[0;34m(\u001b[0m\u001b[0;34m)\u001b[0m\u001b[0;34m\u001b[0m\u001b[0;34m\u001b[0m\u001b[0m\n\u001b[0;32m----> 4\u001b[0;31m \u001b[0mpygame\u001b[0m\u001b[0;34m.\u001b[0m\u001b[0mdisplay\u001b[0m\u001b[0;34m.\u001b[0m\u001b[0mset_mode\u001b[0m\u001b[0;34m(\u001b[0m\u001b[0;34m(\u001b[0m\u001b[0;36m900\u001b[0m\u001b[0;34m,\u001b[0m \u001b[0;36m500\u001b[0m \u001b[0;34m)\u001b[0m \u001b[0;34m)\u001b[0m\u001b[0;34m\u001b[0m\u001b[0;34m\u001b[0m\u001b[0m\n\u001b[0m\u001b[1;32m      5\u001b[0m \u001b[0;34m\u001b[0m\u001b[0m\n\u001b[1;32m      6\u001b[0m \u001b[0;34m\u001b[0m\u001b[0m\n",
      "\u001b[0;31merror\u001b[0m: No available video device"
     ]
    }
   ],
   "source": [
    "import pygame\n",
    "import sys\n",
    "pygame.init()\n",
    "pygame.display.set_mode((900, 500 ) )\n",
    "\n",
    "\n",
    "while True :\n",
    "        for event in pygame.event.get():\n",
    "            if event.type == pygame.QUIT:\n",
    "                pygame.quit()\n",
    "                sys.exit(0)"
   ]
  },
  {
   "cell_type": "code",
   "execution_count": 34,
   "id": "b0d9254f",
   "metadata": {},
   "outputs": [
    {
     "ename": "error",
     "evalue": "video system not initialized",
     "output_type": "error",
     "traceback": [
      "\u001b[0;31m---------------------------------------------------------------------------\u001b[0m",
      "\u001b[0;31merror\u001b[0m                                     Traceback (most recent call last)",
      "\u001b[0;32m<ipython-input-34-71a1ce1e12c8>\u001b[0m in \u001b[0;36m<module>\u001b[0;34m\u001b[0m\n\u001b[1;32m      1\u001b[0m \u001b[0;32mwhile\u001b[0m \u001b[0;32mTrue\u001b[0m\u001b[0;34m:\u001b[0m\u001b[0;34m\u001b[0m\u001b[0;34m\u001b[0m\u001b[0m\n\u001b[0;32m----> 2\u001b[0;31m     \u001b[0mpygame\u001b[0m\u001b[0;34m.\u001b[0m\u001b[0mdisplay\u001b[0m\u001b[0;34m.\u001b[0m\u001b[0mupdate\u001b[0m\u001b[0;34m(\u001b[0m\u001b[0;34m)\u001b[0m\u001b[0;34m\u001b[0m\u001b[0;34m\u001b[0m\u001b[0m\n\u001b[0m\u001b[1;32m      3\u001b[0m     \u001b[0;32mfor\u001b[0m \u001b[0mevent\u001b[0m \u001b[0;32min\u001b[0m \u001b[0mpygame\u001b[0m\u001b[0;34m.\u001b[0m\u001b[0mevent\u001b[0m\u001b[0;34m.\u001b[0m\u001b[0mget\u001b[0m\u001b[0;34m(\u001b[0m\u001b[0;34m)\u001b[0m\u001b[0;34m:\u001b[0m\u001b[0;34m\u001b[0m\u001b[0;34m\u001b[0m\u001b[0m\n\u001b[1;32m      4\u001b[0m         \u001b[0;32mif\u001b[0m \u001b[0mevent\u001b[0m\u001b[0;34m.\u001b[0m\u001b[0mtype\u001b[0m \u001b[0;34m==\u001b[0m \u001b[0mQUIT\u001b[0m\u001b[0;34m:\u001b[0m\u001b[0;34m\u001b[0m\u001b[0;34m\u001b[0m\u001b[0m\n\u001b[1;32m      5\u001b[0m             \u001b[0mpygame\u001b[0m\u001b[0;34m.\u001b[0m\u001b[0mquit\u001b[0m\u001b[0;34m(\u001b[0m\u001b[0;34m)\u001b[0m\u001b[0;34m\u001b[0m\u001b[0;34m\u001b[0m\u001b[0m\n",
      "\u001b[0;31merror\u001b[0m: video system not initialized"
     ]
    }
   ],
   "source": [
    "while True:\n",
    "    pygame.display.update()\n",
    "    for event in pygame.event.get():\n",
    "        if event.type == QUIT:\n",
    "            pygame.quit()\n",
    "            sys.exit()"
   ]
  },
  {
   "cell_type": "code",
   "execution_count": 35,
   "id": "91818428",
   "metadata": {
    "scrolled": true
   },
   "outputs": [
    {
     "ename": "error",
     "evalue": "No available video device",
     "output_type": "error",
     "traceback": [
      "\u001b[0;31m---------------------------------------------------------------------------\u001b[0m",
      "\u001b[0;31merror\u001b[0m                                     Traceback (most recent call last)",
      "\u001b[0;32m<ipython-input-35-15f064c62024>\u001b[0m in \u001b[0;36m<module>\u001b[0;34m\u001b[0m\n\u001b[0;32m----> 1\u001b[0;31m \u001b[0mgameDisplay\u001b[0m \u001b[0;34m=\u001b[0m \u001b[0mpygame\u001b[0m\u001b[0;34m.\u001b[0m\u001b[0mdisplay\u001b[0m\u001b[0;34m.\u001b[0m\u001b[0mset_mode\u001b[0m\u001b[0;34m(\u001b[0m\u001b[0;34m(\u001b[0m\u001b[0;36m800\u001b[0m\u001b[0;34m,\u001b[0m\u001b[0;36m600\u001b[0m\u001b[0;34m)\u001b[0m\u001b[0;34m)\u001b[0m\u001b[0;34m\u001b[0m\u001b[0;34m\u001b[0m\u001b[0m\n\u001b[0m\u001b[1;32m      2\u001b[0m \u001b[0mpygame\u001b[0m\u001b[0;34m.\u001b[0m\u001b[0mdisplay\u001b[0m\u001b[0;34m.\u001b[0m\u001b[0mset_caption\u001b[0m\u001b[0;34m(\u001b[0m\u001b[0;34m'A bit Racey'\u001b[0m\u001b[0;34m)\u001b[0m\u001b[0;34m\u001b[0m\u001b[0;34m\u001b[0m\u001b[0m\n",
      "\u001b[0;31merror\u001b[0m: No available video device"
     ]
    }
   ],
   "source": [
    "gameDisplay = pygame.display.set_mode((800,600))\n",
    "pygame.display.set_caption('A bit Racey')"
   ]
  },
  {
   "cell_type": "code",
   "execution_count": null,
   "id": "33afc1cb",
   "metadata": {},
   "outputs": [],
   "source": []
  }
 ],
 "metadata": {
  "kernelspec": {
   "display_name": "Python 3",
   "language": "python",
   "name": "python3"
  },
  "language_info": {
   "codemirror_mode": {
    "name": "ipython",
    "version": 3
   },
   "file_extension": ".py",
   "mimetype": "text/x-python",
   "name": "python",
   "nbconvert_exporter": "python",
   "pygments_lexer": "ipython3",
   "version": "3.6.15"
  }
 },
 "nbformat": 4,
 "nbformat_minor": 5
}
